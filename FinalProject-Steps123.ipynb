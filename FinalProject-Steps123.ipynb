{
 "cells": [
  {
   "cell_type": "code",
   "execution_count": null,
   "metadata": {},
   "outputs": [],
   "source": [
    "#  Place your files in a folder of your choice \n",
    "#  and set the current working directory to be that folder. \n",
    "\n",
    "%cd d:/UD/PythonProgramming_Online/FinalProject"
   ]
  },
  {
   "cell_type": "code",
   "execution_count": null,
   "metadata": {},
   "outputs": [],
   "source": [
    "# Import your data into a pandas dataframe.\n",
    "\n",
    "import pandas as pd\n",
    "\n",
    "data = pd.read_csv('lc_2016_2017_short.csv',low_memory=False)"
   ]
  },
  {
   "cell_type": "code",
   "execution_count": null,
   "metadata": {},
   "outputs": [],
   "source": [
    "#    #STEP 1 --- Created by Juan\n",
    "#    Explore your data by producing the following:\n",
    "#    Descriptive statistics for numeric variables\n",
    "#    Save the descriptive statistics to a comma delimited file.\n",
    "#    Descriptive statistics for categorical variables\n",
    "#    Save the descriptive statistics to a comma delimited file.\n",
    "\n",
    "#  Number of observations and number of variables.\n",
    "\n",
    "print(data.shape)\n",
    "\n",
    "#  variable types.\n",
    "\n",
    "print(data.dtypes)\n",
    "\n",
    "\n",
    "#  Descriptive statistics for numeric variables\n",
    "\n",
    "data_numeric = data.describe()\n",
    "\n",
    "#  Descriptive statistics for categorical variables\n",
    "\n",
    "data_categorical = data.describe(include='object')\n",
    "\n",
    "#  Save descriptive statistics to csv files.\n",
    "\n",
    "data_numeric.to_csv('gc_desc_numeric.csv')\n",
    "data_categorical.to_csv('gc_desc_categorical.csv')"
   ]
  },
  {
   "cell_type": "code",
   "execution_count": null,
   "metadata": {},
   "outputs": [],
   "source": [
    "#    #STEP 2 --- Created by Ruby \n",
    "#    Create a bar chart to represent the average dti (debt-to-income ratio) for each grade of loan.  \n",
    "#    In other words, the height of the bars depict the dti for a particular grade of loan.  \n",
    "#    The relevant variables are dti and grade.\n",
    "\n",
    "import matplotlib.pyplot as plt\n",
    "chartData = data.loc[:,['dti', 'grade']].groupby('grade').mean()\n",
    "chartData.plot(kind='bar', color='green')\n",
    "plt.ylabel('DTI')\n",
    "plt.xlabel('Grade')\n",
    "plt.xticks(rotation=0)\n",
    "plt.show()\n",
    "plt.close()"
   ]
  },
  {
   "cell_type": "code",
   "execution_count": null,
   "metadata": {},
   "outputs": [],
   "source": [
    "#STEP 3 --- Created by Shiva\n",
    "#Determine the percent of observations with each loan status among\n",
    "#loans requested for each purpose – the sum of percentages should be 100% when\n",
    "#summed across all loan statuses within each purpose.\n",
    "#You will need the following variables for this task: 'purpose' , 'loan_status'\n",
    "#data file ---- lc_2016_2017_short.csv\n",
    "#import pandas as pd\n",
    "#data = pd.read_csv('lc_2016_2017_short.csv')\n",
    "import numpy as np\n",
    "purpose = data.loc[:,'purpose']\n",
    "loan_status = data.loc[:,'loan_status']\n",
    "\n",
    "# Create the crosstab\n",
    "\n",
    "ctab = pd.crosstab(purpose, loan_status)\n",
    "\n",
    "# Sum across columns of ctab.\n",
    "\n",
    "ctab_sum = ctab.sum(1)\n",
    "\n",
    "# Transpose ctab.\n",
    "\n",
    "ctab_transpose = ctab.transpose()\n",
    "\n",
    "# Calculate the percent of observations with each loan status among\n",
    "\n",
    "#loans requested for each purpose\n",
    "ctab_percent = ctab_transpose / ctab_sum\n",
    "ctab_percent = ctab_percent.transpose()\n",
    "\n",
    "# Print the final results, transposing ctab_percent for easier readability.\n",
    "\n",
    "print( ctab_percent.head())"
   ]
  }
 ],
 "metadata": {
  "kernelspec": {
   "display_name": "Python 3",
   "language": "python",
   "name": "python3"
  },
  "language_info": {
   "codemirror_mode": {
    "name": "ipython",
    "version": 3
   },
   "file_extension": ".py",
   "mimetype": "text/x-python",
   "name": "python",
   "nbconvert_exporter": "python",
   "pygments_lexer": "ipython3",
   "version": "3.7.6"
  }
 },
 "nbformat": 4,
 "nbformat_minor": 4
}
